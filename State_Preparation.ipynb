{
  "nbformat": 4,
  "nbformat_minor": 0,
  "metadata": {
    "colab": {
      "name": "State Preparation.ipynb",
      "version": "0.3.2",
      "provenance": [],
      "include_colab_link": true
    },
    "language_info": {
      "codemirror_mode": {
        "name": "ipython",
        "version": 3
      },
      "file_extension": ".py",
      "mimetype": "text/x-python",
      "name": "python",
      "nbconvert_exporter": "python",
      "pygments_lexer": "ipython3",
      "version": "3.6.8"
    },
    "kernelspec": {
      "display_name": "Python 3",
      "language": "python",
      "name": "python3"
    }
  },
  "cells": [
    {
      "cell_type": "markdown",
      "metadata": {
        "id": "view-in-github",
        "colab_type": "text"
      },
      "source": [
        "<a href=\"https://colab.research.google.com/github/hegotgame/AlexaCookbook/blob/master/State_Preparation.ipynb\" target=\"_parent\"><img src=\"https://colab.research.google.com/assets/colab-badge.svg\" alt=\"Open In Colab\"/></a>"
      ]
    },
    {
      "cell_type": "markdown",
      "metadata": {
        "id": "Kaln2DjUQ1vH",
        "colab_type": "text"
      },
      "source": [
        "This cell installs all required packages. After running it, **you must restart the runtime (kernel)**, which can be done with **Ctrl+M**\n",
        "\n"
      ]
    },
    {
      "cell_type": "code",
      "metadata": {
        "id": "02x4MXABJVTy",
        "colab_type": "code",
        "colab": {}
      },
      "source": [
        "! pip install pennylane pyquil==2.7\n",
        "! git clone https://github.com/rigetti/pennylane-forest\n",
        "! cd pennylane-forest && git checkout multi_qubit_observables && pip install -e ."
      ],
      "execution_count": 0,
      "outputs": []
    },
    {
      "cell_type": "markdown",
      "metadata": {
        "id": "oJuivOMsJDua",
        "colab_type": "text"
      },
      "source": [
        "## State preparation tutorial\n",
        "\n",
        "In this notebook, we build and optimize a circuit to prepare arbitrary single-qubit states, including mixed states. Along the way, we also show how to:\n",
        "\n",
        "1. Construct compact expressions for circuits composed of many layers.\n",
        "2. Succintly evaluate expectation values of many observables.\n",
        "3. Estimate expectation values from repeated measurements, as in real hardware.\n",
        "\n",
        "The most general state of a qubit is represented in terms of a positive semi-definite density matrix $\\rho$ with unit trace. The density matrix can be uniquely described in terms of its three-dimensional _Bloch vector_ $\\vec{a}=(a_x, a_y, a_z)$ as:\n",
        "\n",
        "$$\\rho=\\frac{1}{2}(\\mathbb{1}+a_x\\sigma_x+a_y\\sigma_y+a_z\\sigma_z),$$\n",
        "\n",
        "\n",
        "where $\\sigma_x, \\sigma_y, \\sigma_z$ are the Pauli matrices. Any Bloch vector corresponds to a valid density matrix as long as $\\|\\vec{a}\\|\\leq 1$. \n",
        "\n",
        "The _purity_ of a state is defined as $p=\\text{Tr}(\\rho^2)$, which for a qubit is bounded as $1/2\\leq p\\geq 1$. The state is pure if $p=1$ and maximally mixed if $p=1/2$. In this example, we select the target state by choosing a random Bloch vector and renormalizing it to have a specified purity."
      ]
    },
    {
      "cell_type": "code",
      "metadata": {
        "id": "b-eC4Fp4JDuc",
        "colab_type": "code",
        "colab": {}
      },
      "source": [
        "import pennylane as qml\n",
        "from pennylane import numpy as np\n",
        "\n",
        "# we generate a three-dimensional random vector by sampling each entry from a\n",
        "#standard normal distribution\n",
        "v = np.random.normal(0, 1, 3)\n",
        "\n",
        "# purity of the target state\n",
        "purity = 0.66\n",
        "\n",
        "# create a random Bloch vector with the specified purity\n",
        "bloch_v = np.sqrt(2*purity-1)*v/np.sqrt(np.sum(v**2))\n",
        "\n",
        "# array of Pauli matrices (will be useful later)\n",
        "Paulis = np.zeros((3, 2, 2), dtype=complex)\n",
        "Paulis[0] = [[0, 1], [1, 0]]\n",
        "Paulis[1] = [[0, -1j], [1j, 0]]\n",
        "Paulis[2] = [[1, 0], [0, -1]]"
      ],
      "execution_count": 0,
      "outputs": []
    },
    {
      "cell_type": "markdown",
      "metadata": {
        "id": "By7x0OHeJDuf",
        "colab_type": "text"
      },
      "source": [
        "Unitary operations map pure states to pure states. So how can we prepare mixed states using unitary circuits? The trick is to introduce additional qubits and perform a unitary transformation on this larger system. By \"tracing out\" the ancilla qubits, we can prepare mixed states in the target register. In this example, we introduce two additional qubits, which suffices to prepare arbitrary states.\n",
        "\n",
        "The ansatz circuit is composed of repeated layers, each of which consists of single-qubit rotations along the $x, y,$ and $z$ axes, followed by three CNOT gates entangling all qubits. Initial gate parameters are chosen at random from a normal distribution. Importantly, when declaring the layer function, we introduce an input parameter $j$, which allows us to later call each layer individually. "
      ]
    },
    {
      "cell_type": "code",
      "metadata": {
        "id": "9CGbP9MNJDuh",
        "colab_type": "code",
        "colab": {}
      },
      "source": [
        "# number of qubits in the circuit\n",
        "nr_qubits = 3\n",
        "# number of layers in the circuit\n",
        "nr_layers = 2\n",
        "\n",
        "# randomly initialize parameteres from a normal distribution\n",
        "params = np.random.normal(0, np.pi, (nr_qubits, nr_layers, 3))\n",
        "\n",
        "# a layer of the circuit ansatz\n",
        "def layer(params, j):\n",
        "    for i in range(nr_qubits):\n",
        "        qml.RX(params[i, j, 0], wires=i)\n",
        "        qml.RY(params[i, j, 1], wires=i)\n",
        "        qml.RZ(params[i, j, 2], wires=i)\n",
        "\n",
        "    qml.CNOT(wires=[0, 1])\n",
        "    qml.CNOT(wires=[0, 2])\n",
        "    qml.CNOT(wires=[1, 2])"
      ],
      "execution_count": 0,
      "outputs": []
    },
    {
      "cell_type": "markdown",
      "metadata": {
        "id": "L-Cp9eHaJDuk",
        "colab_type": "text"
      },
      "source": [
        "To set up the device, we select a plugin that is compatible with evaluating expectations through sampling: the `forest.qvm` plugin. The syntax is slightly different than for other plugins, we need to also feed a `device` keyword specifying the number of qubits in the format `[number of qubits]q-pyqvm`. The keyword `shots` indicates the number of samples used to estimate expectation values.\n",
        "\n",
        "When defining the qnode, we introduce as input a Hermitian operator $A$ that specifies the expectation value being evaluated. This choice later allows us to easily evaluate several expectation values without having to define a new qnode each time. Useful!"
      ]
    },
    {
      "cell_type": "code",
      "metadata": {
        "id": "8hlWK_tEJDuk",
        "colab_type": "code",
        "colab": {}
      },
      "source": [
        "# set up the device\n",
        "dev = qml.device('forest.qvm', device='3q-pyqvm', shots=10000)\n",
        "\n",
        "\n",
        "# set up the qnode using a decorator\n",
        "@qml.qnode(dev)\n",
        "\n",
        "# We add a Hermitian operator A as an input that specifies the expectation\n",
        "# value. We set A=None to declare that this is a fixed parameter\n",
        "def circuit(params, A=None):\n",
        "    \n",
        "    # repeatedly apply each layer in the circuit\n",
        "    for j in range(nr_layers):\n",
        "        layer(params, j)\n",
        "        \n",
        "    # returns the expectation of the input matrix A on the first qubit\n",
        "    return qml.expval.Hermitian(A, wires=0)"
      ],
      "execution_count": 0,
      "outputs": []
    },
    {
      "cell_type": "markdown",
      "metadata": {
        "id": "DWPL6X1CJDuo",
        "colab_type": "text"
      },
      "source": [
        "Our goal is to prepare a state with the same Bloch vector as the target state. Therefore, we define a simple cost function\n",
        "\n",
        "$$ C = \\sum_{i=1}^3 \\left|a_i-a'_i\\right|, $$\n",
        "\n",
        "where $\\vec{a}=(a_1, a_2, a_3)$ is the target vector and $\\vec{a}'=(a'_1, a'_2, a'_3)$ is the vector of the state prepared by the circuit. Optimization is carried out using the Adam optimizer. Finally, we compare the Bloch vectors of the target and output state."
      ]
    },
    {
      "cell_type": "code",
      "metadata": {
        "id": "lUsSt092JDup",
        "colab_type": "code",
        "outputId": "dc3711b7-71a2-472f-dedb-57621129e8e4",
        "colab": {
          "base_uri": "https://localhost:8080/",
          "height": 416
        }
      },
      "source": [
        "# cost function\n",
        "def cost_fn(params):\n",
        "    cost = 0\n",
        "    for k in range(3):\n",
        "        cost += np.abs(circuit(params, A=Paulis[k]) - bloch_v[k])\n",
        "\n",
        "    return cost\n",
        "\n",
        "# set up the optimizer\n",
        "opt = qml.AdamOptimizer()\n",
        "\n",
        "# number of steps in the optimization routine\n",
        "steps = 200\n",
        "\n",
        "# the final stage of optimization isn't always the best, so we keep track of the best parameters along the way\n",
        "best_cost = cost_fn(params)\n",
        "best_params = np.zeros((nr_qubits, nr_layers, 3))\n",
        "\n",
        "print('Cost after 0 steps is {:.4f}'.format(cost_fn(params)))\n",
        "\n",
        "# optimization begins\n",
        "for n in range(steps):\n",
        "    params = opt.step(cost_fn, params)\n",
        "    current_cost = cost_fn(params)\n",
        "    \n",
        "    # keeps track of best parameters\n",
        "    if current_cost < best_cost:\n",
        "        best_params = params    \n",
        "\n",
        "    # Keep track of progress every 10 steps\n",
        "    if n % 10 == 9 or n == steps - 1:\n",
        "        print('Cost after {} steps is {:.4f}'.format(n+1, current_cost))\n",
        "\n",
        "# calculate the Bloch vector of the output state\n",
        "output_bloch_v = np.zeros(3)\n",
        "for l in range(3):\n",
        "    output_bloch_v[l] = circuit(best_params, A=Paulis[l])\n",
        "    \n",
        "# print results\n",
        "print('Target Bloch vector = ', bloch_v)\n",
        "print('Output Bloch vector = ', output_bloch_v)"
      ],
      "execution_count": 0,
      "outputs": [
        {
          "output_type": "stream",
          "text": [
            "Cost after 0 steps is 0.8258\n",
            "Cost after 10 steps is 0.7026\n",
            "Cost after 20 steps is 0.5751\n",
            "Cost after 30 steps is 0.5994\n",
            "Cost after 40 steps is 0.5758\n",
            "Cost after 50 steps is 0.5776\n",
            "Cost after 60 steps is 0.5669\n",
            "Cost after 70 steps is 0.5663\n",
            "Cost after 80 steps is 0.5513\n",
            "Cost after 90 steps is 0.5389\n",
            "Cost after 100 steps is 0.5146\n",
            "Cost after 110 steps is 0.4817\n",
            "Cost after 120 steps is 0.4846\n",
            "Cost after 130 steps is 0.4384\n",
            "Cost after 140 steps is 0.3673\n",
            "Cost after 150 steps is 0.3165\n",
            "Cost after 160 steps is 0.2034\n",
            "Cost after 170 steps is 0.0826\n",
            "Cost after 180 steps is 0.0289\n",
            "Cost after 190 steps is 0.0578\n",
            "Cost after 200 steps is 0.0164\n",
            "Target Bloch vector =  [ 0.1289306  -0.05342399  0.54819958]\n",
            "Output Bloch vector =  [ 0.117  -0.0628  0.5512]\n"
          ],
          "name": "stdout"
        }
      ]
    },
    {
      "cell_type": "code",
      "metadata": {
        "id": "s9B-m2BzV5s6",
        "colab_type": "code",
        "colab": {}
      },
      "source": [
        ""
      ],
      "execution_count": 0,
      "outputs": []
    }
  ]
}